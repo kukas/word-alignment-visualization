{
 "cells": [
  {
   "cell_type": "code",
   "execution_count": 4,
   "metadata": {},
   "outputs": [
    {
     "data": {
      "application/javascript": "var link = document.createElement(\"link\");\n\tlink.rel = \"stylesheet\";\n\tlink.type = \"text/css\";\n\tlink.href = \"/home/jirka/edukate/word-alignment-visualization/word_alignment_visualization/static/word_alignment_viz.css\";\n\tdocument.head.appendChild(link);\nnew Promise(function(resolve, reject) {\n\tvar script = document.createElement(\"script\");\n\tscript.onload = resolve;\n\tscript.onerror = reject;\n\tscript.src = \"/home/jirka/edukate/word-alignment-visualization/word_alignment_visualization/static/word_alignment_viz.js\";\n\tdocument.head.appendChild(script);\n}).then(() => {\nshow_word_alignments(element, [\"\\u201c\", \"What\", \"day\", \"is\", \"it\", \"?\", \"\\u201d\", \"asked\", \"Pooh\", \".\", \"\\u201c\", \"It\", \"\\u2019\", \"s\", \"today\", \",\", \"\\u201d\", \"squeaked\", \"Piglet\", \".\", \"\\u201c\", \"My\", \"favorite\", \"day\", \",\", \"\\u201d\", \"said\", \"Pooh\", \".\", \"\\u201d\"], [\"\\u201e\", \"Jak\\u00fd\", \"je\", \"dnes\", \"den\", \"?\", \"\\u201c\", \"zeptal\", \"se\", \"P\\u00fa\", \".\", \"\\u201e\", \"Dnes\", \"je\", \"dnes\", \",\", \"\\u201c\", \"vyp\\u00edsklo\", \"Pras\\u00e1tko\", \".\", \"\\u201e\", \"M\\u016fj\", \"obl\\u00edben\\u00fd\", \"den\", \",\", \"\\u201c\", \"\\u0159ekl\", \"P\\u00fa\", \".\"], [[0, 0], [1, 1], [2, 4], [3, 2], [4, 2], [5, 5], [6, 6], [7, 7], [7, 8], [8, 9], [9, 10], [10, 11], [11, 12], [13, 13], [14, 14], [15, 15], [16, 16], [17, 16], [18, 17], [18, 18], [19, 19], [20, 20], [21, 21], [22, 22], [23, 23], [24, 24], [25, 25], [26, 26], [27, 27], [28, 28]])\n});",
      "text/plain": [
       "<IPython.core.display.Javascript object>"
      ]
     },
     "execution_count": 4,
     "metadata": {},
     "output_type": "execute_result"
    }
   ],
   "source": [
    "from word_alignment_visualization import show_word_alignments\n",
    "\n",
    "# Example data\n",
    "src_tokens = [\"“\", \"What\", \"day\", \"is\", \"it\", \"?\", \"”\", \"asked\", \"Pooh\", \".\", \"“\", \"It\", \"’\", \"s\", \"today\", \",\", \"”\", \"squeaked\", \"Piglet\", \".\", \"“\", \"My\", \"favorite\", \"day\", \",\", \"”\", \"said\", \"Pooh\", \".\", \"”\"]\n",
    "tgt_tokens = [\"„\", \"Jaký\", \"je\", \"dnes\", \"den\", \"?\", \"“\", \"zeptal\", \"se\", \"Pú\", \".\", \"„\", \"Dnes\", \"je\", \"dnes\", \",\", \"“\", \"vypísklo\", \"Prasátko\", \".\", \"„\", \"Můj\", \"oblíbený\", \"den\", \",\", \"“\", \"řekl\", \"Pú\", \".\"]\n",
    "alignment = [[0, 0],[1, 1],[2, 4],[3, 2],[4, 2],[5, 5],[6, 6],[7, 7],[7, 8],[8, 9],[9, 10],[10, 11],[11, 12],[13, 13],[14, 14],[15, 15],[16, 16],[17, 16],[18, 17],[18, 18],[19, 19],[20, 20],[21, 21],[22, 22],[23, 23],[24, 24],[25, 25],[26, 26],[27, 27],[28, 28]]\n",
    "\n",
    "# Display word alignment visualization\n",
    "show_word_alignments(src_tokens, tgt_tokens, alignment)"
   ]
  }
 ],
 "metadata": {
  "kernelspec": {
   "display_name": "Python 3 (ipykernel)",
   "language": "python",
   "name": "python3"
  },
  "language_info": {
   "codemirror_mode": {
    "name": "ipython",
    "version": 3
   },
   "file_extension": ".py",
   "mimetype": "text/x-python",
   "name": "python",
   "nbconvert_exporter": "python",
   "pygments_lexer": "ipython3",
   "version": "3.11.6"
  }
 },
 "nbformat": 4,
 "nbformat_minor": 2
}
